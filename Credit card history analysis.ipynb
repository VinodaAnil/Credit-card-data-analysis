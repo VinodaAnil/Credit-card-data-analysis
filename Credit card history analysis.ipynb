{
 "cells": [
  {
   "cell_type": "markdown",
   "metadata": {},
   "source": [
    "# Credit Card History Data set Analysis"
   ]
  },
  {
   "cell_type": "code",
   "execution_count": 1,
   "metadata": {},
   "outputs": [],
   "source": [
    "import numpy as np  #mathmetical operations\n",
    "import pandas as pd #for dataframes\n",
    "import seaborn as sns #for visualisation\n",
    "import matplotlib.pyplot as plt #for visualisation\n",
    "from sklearn.preprocessing import LabelEncoder # for categorical data for target column\n",
    "from sklearn.preprocessing import OneHotEncoder # for categorical data for all other columns\n",
    "from sklearn.model_selection import train_test_split # splitting data into train and test\n",
    "from sklearn import svm # classification model\n",
    "from sklearn.linear_model import LogisticRegression # classification model\n",
    "from sklearn.neighbors import KNeighborsClassifier # classification model\n",
    "from sklearn.tree import DecisionTreeClassifier # classification model\n",
    "from sklearn.naive_bayes import GaussianNB # classification model\n",
    "from sklearn.metrics import confusion_matrix,accuracy_score,recall_score,precision_score,f1_score #Performance Measure\n",
    "from sklearn.model_selection import KFold #cross validation\n",
    "from sklearn.model_selection import LeaveOneOut #cross validation\n",
    "from sklearn.model_selection import cross_val_score #cross validation"
   ]
  },
  {
   "cell_type": "code",
   "execution_count": 2,
   "metadata": {},
   "outputs": [
    {
     "data": {
      "text/html": [
       "<div>\n",
       "<style scoped>\n",
       "    .dataframe tbody tr th:only-of-type {\n",
       "        vertical-align: middle;\n",
       "    }\n",
       "\n",
       "    .dataframe tbody tr th {\n",
       "        vertical-align: top;\n",
       "    }\n",
       "\n",
       "    .dataframe thead th {\n",
       "        text-align: right;\n",
       "    }\n",
       "</style>\n",
       "<table border=\"1\" class=\"dataframe\">\n",
       "  <thead>\n",
       "    <tr style=\"text-align: right;\">\n",
       "      <th></th>\n",
       "      <th>default</th>\n",
       "      <th>amount</th>\n",
       "      <th>grade</th>\n",
       "      <th>years</th>\n",
       "      <th>ownership</th>\n",
       "      <th>income</th>\n",
       "      <th>age</th>\n",
       "    </tr>\n",
       "  </thead>\n",
       "  <tbody>\n",
       "    <tr>\n",
       "      <th>0</th>\n",
       "      <td>0</td>\n",
       "      <td>1000</td>\n",
       "      <td>B</td>\n",
       "      <td>2.0</td>\n",
       "      <td>RENT</td>\n",
       "      <td>19200.0</td>\n",
       "      <td>24</td>\n",
       "    </tr>\n",
       "    <tr>\n",
       "      <th>1</th>\n",
       "      <td>1</td>\n",
       "      <td>6500</td>\n",
       "      <td>A</td>\n",
       "      <td>2.0</td>\n",
       "      <td>MORTGAGE</td>\n",
       "      <td>66000.0</td>\n",
       "      <td>28</td>\n",
       "    </tr>\n",
       "    <tr>\n",
       "      <th>2</th>\n",
       "      <td>0</td>\n",
       "      <td>2400</td>\n",
       "      <td>A</td>\n",
       "      <td>2.0</td>\n",
       "      <td>RENT</td>\n",
       "      <td>60000.0</td>\n",
       "      <td>36</td>\n",
       "    </tr>\n",
       "    <tr>\n",
       "      <th>3</th>\n",
       "      <td>0</td>\n",
       "      <td>10000</td>\n",
       "      <td>C</td>\n",
       "      <td>3.0</td>\n",
       "      <td>RENT</td>\n",
       "      <td>62000.0</td>\n",
       "      <td>24</td>\n",
       "    </tr>\n",
       "    <tr>\n",
       "      <th>4</th>\n",
       "      <td>1</td>\n",
       "      <td>4000</td>\n",
       "      <td>C</td>\n",
       "      <td>2.0</td>\n",
       "      <td>RENT</td>\n",
       "      <td>20000.0</td>\n",
       "      <td>28</td>\n",
       "    </tr>\n",
       "    <tr>\n",
       "      <th>...</th>\n",
       "      <td>...</td>\n",
       "      <td>...</td>\n",
       "      <td>...</td>\n",
       "      <td>...</td>\n",
       "      <td>...</td>\n",
       "      <td>...</td>\n",
       "      <td>...</td>\n",
       "    </tr>\n",
       "    <tr>\n",
       "      <th>7722</th>\n",
       "      <td>1</td>\n",
       "      <td>6000</td>\n",
       "      <td>C</td>\n",
       "      <td>6.0</td>\n",
       "      <td>RENT</td>\n",
       "      <td>47628.0</td>\n",
       "      <td>24</td>\n",
       "    </tr>\n",
       "    <tr>\n",
       "      <th>7723</th>\n",
       "      <td>1</td>\n",
       "      <td>1500</td>\n",
       "      <td>B</td>\n",
       "      <td>5.0</td>\n",
       "      <td>RENT</td>\n",
       "      <td>18000.0</td>\n",
       "      <td>21</td>\n",
       "    </tr>\n",
       "    <tr>\n",
       "      <th>7724</th>\n",
       "      <td>1</td>\n",
       "      <td>4100</td>\n",
       "      <td>B</td>\n",
       "      <td>18.0</td>\n",
       "      <td>RENT</td>\n",
       "      <td>57000.0</td>\n",
       "      <td>26</td>\n",
       "    </tr>\n",
       "    <tr>\n",
       "      <th>7725</th>\n",
       "      <td>1</td>\n",
       "      <td>2000</td>\n",
       "      <td>B</td>\n",
       "      <td>NaN</td>\n",
       "      <td>RENT</td>\n",
       "      <td>25000.0</td>\n",
       "      <td>25</td>\n",
       "    </tr>\n",
       "    <tr>\n",
       "      <th>7726</th>\n",
       "      <td>1</td>\n",
       "      <td>6000</td>\n",
       "      <td>C</td>\n",
       "      <td>0.0</td>\n",
       "      <td>RENT</td>\n",
       "      <td>45000.0</td>\n",
       "      <td>25</td>\n",
       "    </tr>\n",
       "  </tbody>\n",
       "</table>\n",
       "<p>7727 rows × 7 columns</p>\n",
       "</div>"
      ],
      "text/plain": [
       "      default  amount grade  years ownership   income  age\n",
       "0           0    1000     B    2.0      RENT  19200.0   24\n",
       "1           1    6500     A    2.0  MORTGAGE  66000.0   28\n",
       "2           0    2400     A    2.0      RENT  60000.0   36\n",
       "3           0   10000     C    3.0      RENT  62000.0   24\n",
       "4           1    4000     C    2.0      RENT  20000.0   28\n",
       "...       ...     ...   ...    ...       ...      ...  ...\n",
       "7722        1    6000     C    6.0      RENT  47628.0   24\n",
       "7723        1    1500     B    5.0      RENT  18000.0   21\n",
       "7724        1    4100     B   18.0      RENT  57000.0   26\n",
       "7725        1    2000     B    NaN      RENT  25000.0   25\n",
       "7726        1    6000     C    0.0      RENT  45000.0   25\n",
       "\n",
       "[7727 rows x 7 columns]"
      ]
     },
     "execution_count": 2,
     "metadata": {},
     "output_type": "execute_result"
    }
   ],
   "source": [
    "Df=pd.read_csv('D:\\python iitb cous\\python tutorial\\ML algorithms\\Decision tree Classification\\credit_history.csv')\n",
    "Df"
   ]
  },
  {
   "cell_type": "code",
   "execution_count": 3,
   "metadata": {},
   "outputs": [
    {
     "data": {
      "text/html": [
       "<div>\n",
       "<style scoped>\n",
       "    .dataframe tbody tr th:only-of-type {\n",
       "        vertical-align: middle;\n",
       "    }\n",
       "\n",
       "    .dataframe tbody tr th {\n",
       "        vertical-align: top;\n",
       "    }\n",
       "\n",
       "    .dataframe thead th {\n",
       "        text-align: right;\n",
       "    }\n",
       "</style>\n",
       "<table border=\"1\" class=\"dataframe\">\n",
       "  <thead>\n",
       "    <tr style=\"text-align: right;\">\n",
       "      <th></th>\n",
       "      <th>default</th>\n",
       "      <th>amount</th>\n",
       "      <th>grade</th>\n",
       "      <th>years</th>\n",
       "      <th>ownership</th>\n",
       "      <th>income</th>\n",
       "      <th>age</th>\n",
       "    </tr>\n",
       "  </thead>\n",
       "  <tbody>\n",
       "    <tr>\n",
       "      <th>0</th>\n",
       "      <td>0</td>\n",
       "      <td>1000</td>\n",
       "      <td>B</td>\n",
       "      <td>2.0</td>\n",
       "      <td>RENT</td>\n",
       "      <td>19200.0</td>\n",
       "      <td>24</td>\n",
       "    </tr>\n",
       "    <tr>\n",
       "      <th>1</th>\n",
       "      <td>1</td>\n",
       "      <td>6500</td>\n",
       "      <td>A</td>\n",
       "      <td>2.0</td>\n",
       "      <td>MORTGAGE</td>\n",
       "      <td>66000.0</td>\n",
       "      <td>28</td>\n",
       "    </tr>\n",
       "    <tr>\n",
       "      <th>2</th>\n",
       "      <td>0</td>\n",
       "      <td>2400</td>\n",
       "      <td>A</td>\n",
       "      <td>2.0</td>\n",
       "      <td>RENT</td>\n",
       "      <td>60000.0</td>\n",
       "      <td>36</td>\n",
       "    </tr>\n",
       "    <tr>\n",
       "      <th>3</th>\n",
       "      <td>0</td>\n",
       "      <td>10000</td>\n",
       "      <td>C</td>\n",
       "      <td>3.0</td>\n",
       "      <td>RENT</td>\n",
       "      <td>62000.0</td>\n",
       "      <td>24</td>\n",
       "    </tr>\n",
       "    <tr>\n",
       "      <th>4</th>\n",
       "      <td>1</td>\n",
       "      <td>4000</td>\n",
       "      <td>C</td>\n",
       "      <td>2.0</td>\n",
       "      <td>RENT</td>\n",
       "      <td>20000.0</td>\n",
       "      <td>28</td>\n",
       "    </tr>\n",
       "  </tbody>\n",
       "</table>\n",
       "</div>"
      ],
      "text/plain": [
       "   default  amount grade  years ownership   income  age\n",
       "0        0    1000     B    2.0      RENT  19200.0   24\n",
       "1        1    6500     A    2.0  MORTGAGE  66000.0   28\n",
       "2        0    2400     A    2.0      RENT  60000.0   36\n",
       "3        0   10000     C    3.0      RENT  62000.0   24\n",
       "4        1    4000     C    2.0      RENT  20000.0   28"
      ]
     },
     "execution_count": 3,
     "metadata": {},
     "output_type": "execute_result"
    }
   ],
   "source": [
    "# We will try to predict the column default\n",
    "# Dataset belongs to credit card company. \n",
    "# Company wants to understand their customers.\n",
    "Df.head()"
   ]
  },
  {
   "cell_type": "code",
   "execution_count": 4,
   "metadata": {},
   "outputs": [
    {
     "data": {
      "text/html": [
       "<div>\n",
       "<style scoped>\n",
       "    .dataframe tbody tr th:only-of-type {\n",
       "        vertical-align: middle;\n",
       "    }\n",
       "\n",
       "    .dataframe tbody tr th {\n",
       "        vertical-align: top;\n",
       "    }\n",
       "\n",
       "    .dataframe thead th {\n",
       "        text-align: right;\n",
       "    }\n",
       "</style>\n",
       "<table border=\"1\" class=\"dataframe\">\n",
       "  <thead>\n",
       "    <tr style=\"text-align: right;\">\n",
       "      <th></th>\n",
       "      <th>default</th>\n",
       "      <th>amount</th>\n",
       "      <th>grade</th>\n",
       "      <th>years</th>\n",
       "      <th>ownership</th>\n",
       "      <th>income</th>\n",
       "      <th>age</th>\n",
       "    </tr>\n",
       "  </thead>\n",
       "  <tbody>\n",
       "    <tr>\n",
       "      <th>7722</th>\n",
       "      <td>1</td>\n",
       "      <td>6000</td>\n",
       "      <td>C</td>\n",
       "      <td>6.0</td>\n",
       "      <td>RENT</td>\n",
       "      <td>47628.0</td>\n",
       "      <td>24</td>\n",
       "    </tr>\n",
       "    <tr>\n",
       "      <th>7723</th>\n",
       "      <td>1</td>\n",
       "      <td>1500</td>\n",
       "      <td>B</td>\n",
       "      <td>5.0</td>\n",
       "      <td>RENT</td>\n",
       "      <td>18000.0</td>\n",
       "      <td>21</td>\n",
       "    </tr>\n",
       "    <tr>\n",
       "      <th>7724</th>\n",
       "      <td>1</td>\n",
       "      <td>4100</td>\n",
       "      <td>B</td>\n",
       "      <td>18.0</td>\n",
       "      <td>RENT</td>\n",
       "      <td>57000.0</td>\n",
       "      <td>26</td>\n",
       "    </tr>\n",
       "    <tr>\n",
       "      <th>7725</th>\n",
       "      <td>1</td>\n",
       "      <td>2000</td>\n",
       "      <td>B</td>\n",
       "      <td>NaN</td>\n",
       "      <td>RENT</td>\n",
       "      <td>25000.0</td>\n",
       "      <td>25</td>\n",
       "    </tr>\n",
       "    <tr>\n",
       "      <th>7726</th>\n",
       "      <td>1</td>\n",
       "      <td>6000</td>\n",
       "      <td>C</td>\n",
       "      <td>0.0</td>\n",
       "      <td>RENT</td>\n",
       "      <td>45000.0</td>\n",
       "      <td>25</td>\n",
       "    </tr>\n",
       "  </tbody>\n",
       "</table>\n",
       "</div>"
      ],
      "text/plain": [
       "      default  amount grade  years ownership   income  age\n",
       "7722        1    6000     C    6.0      RENT  47628.0   24\n",
       "7723        1    1500     B    5.0      RENT  18000.0   21\n",
       "7724        1    4100     B   18.0      RENT  57000.0   26\n",
       "7725        1    2000     B    NaN      RENT  25000.0   25\n",
       "7726        1    6000     C    0.0      RENT  45000.0   25"
      ]
     },
     "execution_count": 4,
     "metadata": {},
     "output_type": "execute_result"
    }
   ],
   "source": [
    "Df.tail()"
   ]
  },
  {
   "cell_type": "code",
   "execution_count": 5,
   "metadata": {},
   "outputs": [
    {
     "data": {
      "text/plain": [
       "(7727, 7)"
      ]
     },
     "execution_count": 5,
     "metadata": {},
     "output_type": "execute_result"
    }
   ],
   "source": [
    "Df.shape"
   ]
  },
  {
   "cell_type": "markdown",
   "metadata": {},
   "source": [
    "# Dealing With Missing Values"
   ]
  },
  {
   "cell_type": "code",
   "execution_count": 6,
   "metadata": {},
   "outputs": [
    {
     "data": {
      "text/plain": [
       "default        0\n",
       "amount         0\n",
       "grade          0\n",
       "years        279\n",
       "ownership      0\n",
       "income         0\n",
       "age            0\n",
       "dtype: int64"
      ]
     },
     "execution_count": 6,
     "metadata": {},
     "output_type": "execute_result"
    }
   ],
   "source": [
    "# Checking missing value in any of these columns \n",
    "Df.isnull().sum()"
   ]
  },
  {
   "cell_type": "code",
   "execution_count": 7,
   "metadata": {},
   "outputs": [
    {
     "data": {
      "text/html": [
       "<div>\n",
       "<style scoped>\n",
       "    .dataframe tbody tr th:only-of-type {\n",
       "        vertical-align: middle;\n",
       "    }\n",
       "\n",
       "    .dataframe tbody tr th {\n",
       "        vertical-align: top;\n",
       "    }\n",
       "\n",
       "    .dataframe thead th {\n",
       "        text-align: right;\n",
       "    }\n",
       "</style>\n",
       "<table border=\"1\" class=\"dataframe\">\n",
       "  <thead>\n",
       "    <tr style=\"text-align: right;\">\n",
       "      <th></th>\n",
       "      <th>default</th>\n",
       "      <th>amount</th>\n",
       "      <th>grade</th>\n",
       "      <th>years</th>\n",
       "      <th>ownership</th>\n",
       "      <th>income</th>\n",
       "      <th>age</th>\n",
       "    </tr>\n",
       "  </thead>\n",
       "  <tbody>\n",
       "    <tr>\n",
       "      <th>39</th>\n",
       "      <td>0</td>\n",
       "      <td>18000</td>\n",
       "      <td>E</td>\n",
       "      <td>NaN</td>\n",
       "      <td>OWN</td>\n",
       "      <td>72000.0</td>\n",
       "      <td>25</td>\n",
       "    </tr>\n",
       "    <tr>\n",
       "      <th>44</th>\n",
       "      <td>1</td>\n",
       "      <td>4000</td>\n",
       "      <td>A</td>\n",
       "      <td>NaN</td>\n",
       "      <td>RENT</td>\n",
       "      <td>40000.0</td>\n",
       "      <td>25</td>\n",
       "    </tr>\n",
       "    <tr>\n",
       "      <th>52</th>\n",
       "      <td>0</td>\n",
       "      <td>1800</td>\n",
       "      <td>B</td>\n",
       "      <td>NaN</td>\n",
       "      <td>RENT</td>\n",
       "      <td>14400.0</td>\n",
       "      <td>41</td>\n",
       "    </tr>\n",
       "    <tr>\n",
       "      <th>133</th>\n",
       "      <td>1</td>\n",
       "      <td>13200</td>\n",
       "      <td>D</td>\n",
       "      <td>NaN</td>\n",
       "      <td>MORTGAGE</td>\n",
       "      <td>49800.0</td>\n",
       "      <td>30</td>\n",
       "    </tr>\n",
       "    <tr>\n",
       "      <th>146</th>\n",
       "      <td>0</td>\n",
       "      <td>6500</td>\n",
       "      <td>B</td>\n",
       "      <td>NaN</td>\n",
       "      <td>MORTGAGE</td>\n",
       "      <td>85000.0</td>\n",
       "      <td>34</td>\n",
       "    </tr>\n",
       "  </tbody>\n",
       "</table>\n",
       "</div>"
      ],
      "text/plain": [
       "     default  amount grade  years ownership   income  age\n",
       "39         0   18000     E    NaN       OWN  72000.0   25\n",
       "44         1    4000     A    NaN      RENT  40000.0   25\n",
       "52         0    1800     B    NaN      RENT  14400.0   41\n",
       "133        1   13200     D    NaN  MORTGAGE  49800.0   30\n",
       "146        0    6500     B    NaN  MORTGAGE  85000.0   34"
      ]
     },
     "execution_count": 7,
     "metadata": {},
     "output_type": "execute_result"
    }
   ],
   "source": [
    "missing=Df[Df['years'].isnull()==True]\n",
    "missing.head()"
   ]
  },
  {
   "cell_type": "code",
   "execution_count": 8,
   "metadata": {},
   "outputs": [
    {
     "data": {
      "text/html": [
       "<div>\n",
       "<style scoped>\n",
       "    .dataframe tbody tr th:only-of-type {\n",
       "        vertical-align: middle;\n",
       "    }\n",
       "\n",
       "    .dataframe tbody tr th {\n",
       "        vertical-align: top;\n",
       "    }\n",
       "\n",
       "    .dataframe thead th {\n",
       "        text-align: right;\n",
       "    }\n",
       "</style>\n",
       "<table border=\"1\" class=\"dataframe\">\n",
       "  <thead>\n",
       "    <tr style=\"text-align: right;\">\n",
       "      <th></th>\n",
       "      <th>default</th>\n",
       "      <th>amount</th>\n",
       "      <th>years</th>\n",
       "      <th>income</th>\n",
       "      <th>age</th>\n",
       "    </tr>\n",
       "  </thead>\n",
       "  <tbody>\n",
       "    <tr>\n",
       "      <th>count</th>\n",
       "      <td>7727.000000</td>\n",
       "      <td>7727.000000</td>\n",
       "      <td>7448.000000</td>\n",
       "      <td>7.727000e+03</td>\n",
       "      <td>7727.000000</td>\n",
       "    </tr>\n",
       "    <tr>\n",
       "      <th>mean</th>\n",
       "      <td>0.478452</td>\n",
       "      <td>9453.345412</td>\n",
       "      <td>6.086332</td>\n",
       "      <td>6.337197e+04</td>\n",
       "      <td>27.542125</td>\n",
       "    </tr>\n",
       "    <tr>\n",
       "      <th>std</th>\n",
       "      <td>0.499568</td>\n",
       "      <td>6298.595800</td>\n",
       "      <td>6.700758</td>\n",
       "      <td>4.687195e+04</td>\n",
       "      <td>6.132121</td>\n",
       "    </tr>\n",
       "    <tr>\n",
       "      <th>min</th>\n",
       "      <td>0.000000</td>\n",
       "      <td>500.000000</td>\n",
       "      <td>0.000000</td>\n",
       "      <td>4.000000e+03</td>\n",
       "      <td>20.000000</td>\n",
       "    </tr>\n",
       "    <tr>\n",
       "      <th>25%</th>\n",
       "      <td>0.000000</td>\n",
       "      <td>5000.000000</td>\n",
       "      <td>2.000000</td>\n",
       "      <td>3.700000e+04</td>\n",
       "      <td>23.000000</td>\n",
       "    </tr>\n",
       "    <tr>\n",
       "      <th>50%</th>\n",
       "      <td>0.000000</td>\n",
       "      <td>8000.000000</td>\n",
       "      <td>4.000000</td>\n",
       "      <td>5.400000e+04</td>\n",
       "      <td>26.000000</td>\n",
       "    </tr>\n",
       "    <tr>\n",
       "      <th>75%</th>\n",
       "      <td>1.000000</td>\n",
       "      <td>12000.000000</td>\n",
       "      <td>8.000000</td>\n",
       "      <td>7.679650e+04</td>\n",
       "      <td>30.000000</td>\n",
       "    </tr>\n",
       "    <tr>\n",
       "      <th>max</th>\n",
       "      <td>1.000000</td>\n",
       "      <td>35000.000000</td>\n",
       "      <td>62.000000</td>\n",
       "      <td>1.200000e+06</td>\n",
       "      <td>94.000000</td>\n",
       "    </tr>\n",
       "  </tbody>\n",
       "</table>\n",
       "</div>"
      ],
      "text/plain": [
       "           default        amount        years        income          age\n",
       "count  7727.000000   7727.000000  7448.000000  7.727000e+03  7727.000000\n",
       "mean      0.478452   9453.345412     6.086332  6.337197e+04    27.542125\n",
       "std       0.499568   6298.595800     6.700758  4.687195e+04     6.132121\n",
       "min       0.000000    500.000000     0.000000  4.000000e+03    20.000000\n",
       "25%       0.000000   5000.000000     2.000000  3.700000e+04    23.000000\n",
       "50%       0.000000   8000.000000     4.000000  5.400000e+04    26.000000\n",
       "75%       1.000000  12000.000000     8.000000  7.679650e+04    30.000000\n",
       "max       1.000000  35000.000000    62.000000  1.200000e+06    94.000000"
      ]
     },
     "execution_count": 8,
     "metadata": {},
     "output_type": "execute_result"
    }
   ],
   "source": [
    "Df.describe()"
   ]
  },
  {
   "cell_type": "code",
   "execution_count": 9,
   "metadata": {},
   "outputs": [
    {
     "data": {
      "text/plain": [
       "count    7448.000000\n",
       "mean        6.086332\n",
       "std         6.700758\n",
       "min         0.000000\n",
       "25%         2.000000\n",
       "50%         4.000000\n",
       "75%         8.000000\n",
       "max        62.000000\n",
       "Name: years, dtype: float64"
      ]
     },
     "execution_count": 9,
     "metadata": {},
     "output_type": "execute_result"
    }
   ],
   "source": [
    "# Column year contains 279 misisng values.\n",
    "# we might want to impute these missing values.\n",
    "Df['years'].describe() "
   ]
  },
  {
   "cell_type": "markdown",
   "metadata": {},
   "source": [
    "# Data distributions "
   ]
  },
  {
   "cell_type": "code",
   "execution_count": 10,
   "metadata": {},
   "outputs": [
    {
     "name": "stdout",
     "output_type": "stream",
     "text": [
      "Feature amount\n"
     ]
    },
    {
     "name": "stderr",
     "output_type": "stream",
     "text": [
      "C:\\Users\\compaq\\anaconda3\\lib\\site-packages\\seaborn\\distributions.py:2551: FutureWarning: `distplot` is a deprecated function and will be removed in a future version. Please adapt your code to use either `displot` (a figure-level function with similar flexibility) or `histplot` (an axes-level function for histograms).\n",
      "  warnings.warn(msg, FutureWarning)\n"
     ]
    },
    {
     "data": {
      "image/png": "[encoded data removed]",
      "text/plain": [
       "<Figure size 432x288 with 1 Axes>"
      ]
     },
     "metadata": {
      "needs_background": "light"
     },
     "output_type": "display_data"
    },
    {
     "name": "stdout",
     "output_type": "stream",
     "text": [
      "Feature years\n"
     ]
    },
    {
     "name": "stderr",
     "output_type": "stream",
     "text": [
      "C:\\Users\\compaq\\anaconda3\\lib\\site-packages\\seaborn\\distributions.py:2551: FutureWarning: `distplot` is a deprecated function and will be removed in a future version. Please adapt your code to use either `displot` (a figure-level function with similar flexibility) or `histplot` (an axes-level function for histograms).\n",
      "  warnings.warn(msg, FutureWarning)\n"
     ]
    },
    {
     "data": {
      "image/png": "[encoded data removed]",
      "text/plain": [
       "<Figure size 432x288 with 1 Axes>"
      ]
     },
     "metadata": {
      "needs_background": "light"
     },
     "output_type": "display_data"
    },
    {
     "name": "stdout",
     "output_type": "stream",
     "text": [
      "Feature income\n"
     ]
    },
    {
     "name": "stderr",
     "output_type": "stream",
     "text": [
      "C:\\Users\\compaq\\anaconda3\\lib\\site-packages\\seaborn\\distributions.py:2551: FutureWarning: `distplot` is a deprecated function and will be removed in a future version. Please adapt your code to use either `displot` (a figure-level function with similar flexibility) or `histplot` (an axes-level function for histograms).\n",
      "  warnings.warn(msg, FutureWarning)\n"
     ]
    },
    {
     "data": {
      "image/png": "[encoded data removed]",
      "text/plain": [
       "<Figure size 432x288 with 1 Axes>"
      ]
     },
     "metadata": {
      "needs_background": "light"
     },
     "output_type": "display_data"
    },
    {
     "name": "stdout",
     "output_type": "stream",
     "text": [
      "Feature age\n"
     ]
    },
    {
     "name": "stderr",
     "output_type": "stream",
     "text": [
      "C:\\Users\\compaq\\anaconda3\\lib\\site-packages\\seaborn\\distributions.py:2551: FutureWarning: `distplot` is a deprecated function and will be removed in a future version. Please adapt your code to use either `displot` (a figure-level function with similar flexibility) or `histplot` (an axes-level function for histograms).\n",
      "  warnings.warn(msg, FutureWarning)\n"
     ]
    },
    {
     "data": {
      "image/png": "[encoded data removed]",
      "text/plain": [
       "<Figure size 432x288 with 1 Axes>"
      ]
     },
     "metadata": {
      "needs_background": "light"
     },
     "output_type": "display_data"
    }
   ],
   "source": [
    "col=['amount', 'years', 'income', 'age']\n",
    "for i in col:\n",
    "    print('Feature', i)\n",
    "    sns.distplot(Df[i])\n",
    "    plt.show()\n",
    "    "
   ]
  },
  {
   "cell_type": "code",
   "execution_count": 11,
   "metadata": {},
   "outputs": [],
   "source": [
    "# From the above graph we can say that data is leftskewed\n",
    "# so for imputing missing values we use median \n",
    "# so we have missing values in years.median is used to fill the missing values\n",
    "Df['years']=Df['years'].fillna(Df['years'].median())"
   ]
  },
  {
   "cell_type": "code",
   "execution_count": 12,
   "metadata": {},
   "outputs": [
    {
     "data": {
      "text/plain": [
       "default      0\n",
       "amount       0\n",
       "grade        0\n",
       "years        0\n",
       "ownership    0\n",
       "income       0\n",
       "age          0\n",
       "dtype: int64"
      ]
     },
     "execution_count": 12,
     "metadata": {},
     "output_type": "execute_result"
    }
   ],
   "source": [
    "# Now check wether missing values are imputed with meadian \n",
    "Df.isnull().sum()"
   ]
  },
  {
   "cell_type": "markdown",
   "metadata": {},
   "source": [
    "# Outliers "
   ]
  },
  {
   "cell_type": "code",
   "execution_count": 13,
   "metadata": {},
   "outputs": [
    {
     "name": "stdout",
     "output_type": "stream",
     "text": [
      "Feature  amount\n"
     ]
    },
    {
     "name": "stderr",
     "output_type": "stream",
     "text": [
      "C:\\Users\\compaq\\anaconda3\\lib\\site-packages\\seaborn\\_decorators.py:36: FutureWarning: Pass the following variable as a keyword arg: x. From version 0.12, the only valid positional argument will be `data`, and passing other arguments without an explicit keyword will result in an error or misinterpretation.\n",
      "  warnings.warn(\n"
     ]
    },
    {
     "data": {
      "image/png": "[encoded data removed]",
      "text/plain": [
       "<Figure size 432x288 with 1 Axes>"
      ]
     },
     "metadata": {
      "needs_background": "light"
     },
     "output_type": "display_data"
    },
    {
     "name": "stdout",
     "output_type": "stream",
     "text": [
      "Feature  years\n"
     ]
    },
    {
     "name": "stderr",
     "output_type": "stream",
     "text": [
      "C:\\Users\\compaq\\anaconda3\\lib\\site-packages\\seaborn\\_decorators.py:36: FutureWarning: Pass the following variable as a keyword arg: x. From version 0.12, the only valid positional argument will be `data`, and passing other arguments without an explicit keyword will result in an error or misinterpretation.\n",
      "  warnings.warn(\n"
     ]
    },
    {
     "data": {
      "image/png": "[encoded data removed]",
      "text/plain": [
       "<Figure size 432x288 with 1 Axes>"
      ]
     },
     "metadata": {
      "needs_background": "light"
     },
     "output_type": "display_data"
    },
    {
     "name": "stdout",
     "output_type": "stream",
     "text": [
      "Feature  income\n"
     ]
    },
    {
     "name": "stderr",
     "output_type": "stream",
     "text": [
      "C:\\Users\\compaq\\anaconda3\\lib\\site-packages\\seaborn\\_decorators.py:36: FutureWarning: Pass the following variable as a keyword arg: x. From version 0.12, the only valid positional argument will be `data`, and passing other arguments without an explicit keyword will result in an error or misinterpretation.\n",
      "  warnings.warn(\n"
     ]
    },
    {
     "data": {
      "image/png": "[encoded data removed]",
      "text/plain": [
       "<Figure size 432x288 with 1 Axes>"
      ]
     },
     "metadata": {
      "needs_background": "light"
     },
     "output_type": "display_data"
    },
    {
     "name": "stdout",
     "output_type": "stream",
     "text": [
      "Feature  age\n"
     ]
    },
    {
     "name": "stderr",
     "output_type": "stream",
     "text": [
      "C:\\Users\\compaq\\anaconda3\\lib\\site-packages\\seaborn\\_decorators.py:36: FutureWarning: Pass the following variable as a keyword arg: x. From version 0.12, the only valid positional argument will be `data`, and passing other arguments without an explicit keyword will result in an error or misinterpretation.\n",
      "  warnings.warn(\n"
     ]
    },
    {
     "data": {
      "image/png": "[encoded data removed]",
      "text/plain": [
       "<Figure size 432x288 with 1 Axes>"
      ]
     },
     "metadata": {
      "needs_background": "light"
     },
     "output_type": "display_data"
    }
   ],
   "source": [
    "# In order to check outliers we can use Boxplots\n",
    "cols=['amount', 'years', 'income', 'age']\n",
    "for i in cols:\n",
    "    print(\"Feature \", i)\n",
    "    sns.boxplot(Df[i])\n",
    "    plt.show()"
   ]
  },
  {
   "cell_type": "code",
   "execution_count": 14,
   "metadata": {},
   "outputs": [],
   "source": [
    " # from the box plot we can see that there are number of outliers in features\n",
    "def outlier(list):\n",
    "    import pandas as pd\n",
    "    df1=pd.Series(list)\n",
    "    q1=df1.quantile(0.25)\n",
    "    q3=df1.quantile(0.75)\n",
    "    iqr=q3-q1\n",
    "    left=q1-(1.5*iqr)\n",
    "    right=q3+(1.5*iqr)\n",
    "    outliers=[]\n",
    "    for i in list:\n",
    "        if i<left or i>right:\n",
    "            outliers.append(i)\n",
    "    print ('data range', left,'to', right)\n",
    "    if len(outliers)>0:\n",
    "        print ('Outliers are ', outliers)\n",
    "    else:\n",
    "        print ('There are no outliers in your data')\n",
    "    return len(outliers)"
   ]
  },
  {
   "cell_type": "code",
   "execution_count": 15,
   "metadata": {},
   "outputs": [
    {
     "name": "stdout",
     "output_type": "stream",
     "text": [
      "Feature  amount\n",
      "data range -5500.0 to 22500.0\n",
      "Outliers are  [25000, 25000, 25000, 25000, 25000, 25000, 25000, 24000, 24000, 23500, 24000, 24000, 25000, 32000, 22750, 33000, 23000, 25000, 24000, 24175, 35000, 28000, 24000, 25000, 25000, 25000, 24250, 30000, 24000, 25000, 25000, 27575, 25000, 25000, 26400, 25000, 25000, 25000, 32000, 24000, 25000, 29850, 35000, 25000, 25000, 25000, 25000, 24500, 23750, 24250, 25000, 25000, 25000, 26000, 28000, 35000, 35000, 23000, 23975, 24250, 25000, 34000, 35000, 25000, 25000, 23500, 24500, 25000, 25000, 25000, 25000, 24000, 25000, 25000, 25000, 24000, 25000, 25000, 24000, 25000, 23450, 24250, 25000, 24000, 25000, 24000, 28000, 25000, 25000, 30000, 24800, 24250, 25000, 25000, 27000, 25000, 23100, 25000, 35000, 23500, 25000, 35000, 25000, 25000, 25000, 25000, 25000, 30000, 35000, 24000, 30000, 25000, 25000, 35000, 25000, 25000, 25000, 25000, 35000, 35000, 25000, 25000, 25000, 25000, 25000, 25000, 25000, 24000, 32000, 24000, 35000, 23000, 30000, 24000, 24000, 25000, 25000, 25000, 25000, 25000, 30000, 30000, 25000, 25475, 25000, 35000, 24250, 25000, 30000, 23000, 25000, 25000, 25000, 24000, 24500, 25000, 25000, 25000, 32000, 25000, 25000, 22750, 25500, 24000, 25000, 25000, 25000, 25000, 25000, 25000, 25000, 25000, 25000, 24000, 25000, 25000, 25000, 25000, 23500, 25000, 30000, 25000, 25000, 24000, 35000, 30000, 25000, 23000, 23000, 30000, 23500, 35000, 25000, 35000, 30000, 25000, 25000, 23800, 25000, 25000, 24400, 35000, 24250, 25000, 25000, 35000, 25000, 25000, 25000, 25000, 35000, 28000, 25000, 24000, 25000, 24000, 33000, 25000, 25000, 25000, 35000, 25000, 23750, 25000, 28000, 25000, 25000, 25000, 24250, 30000, 24000, 28000, 25000, 30000, 25000, 28250, 35000, 25000, 30750, 25000, 23500, 25000, 25000, 25000, 25000, 35000, 25000, 25000, 30000, 25000, 25000, 25000, 25000, 25000, 30000, 24250, 24000, 30000, 24000, 25000, 25000, 27050, 24250, 24250, 25000, 25000, 25000, 24000, 23750, 25000, 25000, 25000, 25000, 25000, 23000, 25000, 25000, 35000, 22750, 30000, 24000, 25000, 25000, 23750, 30000, 24500, 25000, 25000, 25000, 25000, 25000, 25000, 25000, 25000, 25000, 25200, 25000, 35000, 25000, 24000, 35000, 24000, 25000, 25000, 33000, 25000, 24000, 25000, 25000, 24000, 23975, 24000, 30000, 25000, 25000, 25000, 27050, 30000, 25000, 23000, 24500, 25000, 24250, 25000, 27050, 35000, 24000, 23000, 30000, 25000, 25000, 25000, 35000, 24000, 24000, 25000, 28000, 25000, 35000, 25000, 25000, 29100, 24000, 25000, 24250, 30000, 25000, 24000, 25000, 35000, 25300, 24000, 30000, 30000, 24250, 25000, 35000, 25000, 35000, 25000, 25000, 25000, 24000, 24250, 25000, 30000, 25000, 24000, 25000, 25000, 25000, 35000, 25000, 25000, 24000, 23800, 28250, 25000, 24250, 24000, 24000, 24250, 25000, 24250, 35000, 24625, 28000, 22750, 24250, 25975, 23000, 35000, 25000, 35000, 25000, 23600, 25000, 25000, 24250, 24000, 24000, 25000, 25000]\n",
      "Feature  years\n",
      "data range -7.0 to 17.0\n",
      "Outliers are  [18.0, 34.0, 20.0, 18.0, 26.0, 20.0, 19.0, 24.0, 61.0, 27.0, 21.0, 21.0, 19.0, 30.0, 23.0, 26.0, 22.0, 18.0, 18.0, 21.0, 24.0, 18.0, 31.0, 25.0, 27.0, 20.0, 31.0, 21.0, 23.0, 23.0, 38.0, 19.0, 19.0, 27.0, 34.0, 22.0, 20.0, 19.0, 20.0, 19.0, 19.0, 28.0, 29.0, 20.0, 23.0, 56.0, 28.0, 18.0, 47.0, 45.0, 18.0, 20.0, 19.0, 31.0, 25.0, 22.0, 24.0, 24.0, 24.0, 18.0, 34.0, 22.0, 26.0, 19.0, 20.0, 24.0, 20.0, 21.0, 18.0, 28.0, 18.0, 25.0, 19.0, 21.0, 20.0, 19.0, 20.0, 34.0, 24.0, 22.0, 22.0, 29.0, 22.0, 27.0, 22.0, 18.0, 24.0, 18.0, 22.0, 18.0, 19.0, 22.0, 38.0, 23.0, 19.0, 43.0, 20.0, 28.0, 21.0, 23.0, 20.0, 18.0, 26.0, 26.0, 32.0, 19.0, 23.0, 27.0, 24.0, 30.0, 20.0, 19.0, 18.0, 20.0, 33.0, 19.0, 22.0, 19.0, 27.0, 18.0, 19.0, 29.0, 25.0, 23.0, 19.0, 32.0, 18.0, 34.0, 23.0, 19.0, 18.0, 19.0, 24.0, 22.0, 22.0, 21.0, 36.0, 20.0, 24.0, 33.0, 25.0, 18.0, 40.0, 18.0, 21.0, 26.0, 28.0, 19.0, 24.0, 21.0, 20.0, 20.0, 18.0, 18.0, 26.0, 23.0, 23.0, 19.0, 20.0, 19.0, 19.0, 19.0, 19.0, 24.0, 29.0, 31.0, 25.0, 19.0, 28.0, 26.0, 19.0, 21.0, 22.0, 25.0, 27.0, 18.0, 24.0, 21.0, 23.0, 18.0, 27.0, 44.0, 18.0, 18.0, 25.0, 26.0, 18.0, 18.0, 18.0, 19.0, 40.0, 26.0, 33.0, 53.0, 27.0, 21.0, 21.0, 18.0, 21.0, 19.0, 21.0, 24.0, 18.0, 18.0, 19.0, 18.0, 23.0, 34.0, 25.0, 40.0, 19.0, 20.0, 19.0, 23.0, 23.0, 41.0, 20.0, 19.0, 18.0, 33.0, 55.0, 22.0, 23.0, 30.0, 23.0, 19.0, 27.0, 34.0, 22.0, 27.0, 26.0, 19.0, 24.0, 26.0, 24.0, 19.0, 20.0, 19.0, 25.0, 21.0, 18.0, 18.0, 22.0, 20.0, 18.0, 21.0, 28.0, 18.0, 26.0, 22.0, 18.0, 27.0, 28.0, 40.0, 19.0, 32.0, 25.0, 21.0, 25.0, 21.0, 18.0, 26.0, 26.0, 22.0, 33.0, 20.0, 20.0, 27.0, 24.0, 19.0, 34.0, 22.0, 20.0, 40.0, 29.0, 18.0, 18.0, 22.0, 20.0, 24.0, 23.0, 18.0, 26.0, 38.0, 18.0, 22.0, 20.0, 18.0, 18.0, 21.0, 27.0, 21.0, 23.0, 21.0, 19.0, 28.0, 23.0, 26.0, 19.0, 18.0, 23.0, 19.0, 62.0, 18.0, 23.0, 27.0, 21.0, 22.0, 26.0, 20.0, 20.0, 18.0, 18.0, 20.0, 19.0, 20.0, 24.0, 29.0, 48.0, 18.0, 37.0, 21.0, 22.0, 24.0, 21.0, 30.0, 23.0, 19.0, 30.0, 22.0, 19.0, 27.0, 29.0, 19.0, 18.0, 21.0, 22.0, 19.0, 18.0, 20.0, 25.0, 21.0, 40.0, 30.0, 20.0, 33.0, 18.0, 26.0, 22.0, 19.0, 22.0, 47.0, 22.0, 24.0, 18.0, 24.0, 26.0, 20.0, 26.0, 34.0, 26.0, 41.0, 21.0, 24.0, 20.0, 27.0, 34.0, 21.0, 37.0, 27.0, 24.0, 21.0, 34.0, 22.0, 21.0, 30.0, 22.0, 37.0, 29.0, 34.0, 24.0, 24.0, 53.0, 24.0, 23.0, 18.0, 20.0, 31.0, 21.0, 20.0, 31.0, 20.0, 48.0, 20.0, 33.0, 18.0, 18.0, 21.0, 27.0, 21.0, 26.0, 20.0, 18.0, 19.0, 21.0, 20.0, 20.0, 31.0, 20.0, 31.0, 19.0, 34.0, 19.0, 18.0, 20.0, 20.0, 31.0, 18.0, 19.0, 30.0, 21.0, 41.0, 24.0, 19.0, 24.0, 40.0, 23.0, 18.0, 20.0, 26.0, 25.0, 24.0, 24.0, 19.0, 20.0, 28.0, 27.0, 30.0, 29.0, 18.0, 31.0, 26.0, 18.0, 24.0, 18.0, 35.0, 21.0, 20.0, 38.0, 26.0, 30.0, 32.0, 19.0, 23.0, 26.0, 37.0, 25.0, 19.0, 20.0, 21.0, 26.0, 23.0, 30.0, 29.0, 22.0, 23.0, 22.0, 20.0, 23.0, 20.0, 21.0, 19.0, 30.0, 18.0, 25.0, 21.0, 19.0, 29.0, 26.0, 33.0, 18.0, 23.0, 18.0, 22.0, 28.0, 23.0, 25.0, 19.0, 19.0, 19.0, 20.0, 26.0, 27.0, 31.0, 20.0, 20.0, 18.0, 18.0, 19.0, 37.0, 20.0, 29.0, 20.0, 25.0, 35.0, 22.0, 20.0, 27.0, 29.0, 25.0, 25.0, 19.0, 20.0, 30.0, 24.0, 20.0, 21.0, 21.0, 30.0, 36.0, 29.0, 21.0, 24.0, 18.0]\n",
      "Feature  income\n",
      "data range -22694.75 to 136491.25\n",
      "Outliers are  [153000.0, 616000.0, 250000.0, 145000.0, 165000.0, 203000.0, 180000.0, 175000.0, 160000.0, 260000.0, 160000.0, 147000.0, 160000.0, 165000.0, 140000.0, 141996.0, 170000.0, 300000.0, 150000.0, 240000.0, 152004.0, 189000.0, 145000.0, 180000.0, 170000.0, 170000.0, 265000.0, 140000.0, 180000.0, 284400.0, 160000.0, 175000.0, 147000.0, 175000.0, 140000.0, 145596.0, 160000.0, 150000.0, 153000.0, 150000.0, 140000.0, 160000.0, 160000.0, 162000.0, 180000.0, 180000.0, 159500.0, 180000.0, 200000.0, 150000.0, 316800.0, 228000.0, 140000.0, 275000.0, 175000.0, 480000.0, 350000.0, 175000.0, 136625.0, 172000.0, 175000.0, 213000.0, 150000.0, 157656.0, 144000.0, 175000.0, 166000.0, 157124.0, 235000.0, 140000.0, 180000.0, 170000.0, 148000.0, 192000.0, 165000.0, 150000.0, 154000.0, 170000.0, 160000.0, 180000.0, 300000.0, 170000.0, 350000.0, 160000.0, 145900.0, 153660.0, 143123.0, 270000.0, 180000.0, 145000.0, 240000.0, 200000.0, 186480.0, 180000.0, 155000.0, 137000.0, 170000.0, 200000.0, 300000.0, 152000.0, 175000.0, 147000.0, 190000.0, 150000.0, 600000.0, 200000.0, 145000.0, 444000.0, 207000.0, 200000.0, 147884.76, 186000.0, 210000.0, 184000.0, 175000.0, 840000.0, 160000.0, 150000.0, 153936.0, 150000.0, 145000.0, 156000.0, 180000.0, 150000.0, 137004.0, 145000.0, 200000.0, 150000.0, 168000.0, 700000.0, 200000.0, 350000.0, 158000.0, 202000.0, 232500.0, 190000.0, 144000.0, 150000.0, 160000.0, 140900.0, 141000.0, 225000.0, 148000.0, 200000.0, 487000.0, 200000.0, 144000.0, 165000.0, 204000.0, 142000.0, 242400.0, 160000.0, 142000.0, 160000.0, 187000.0, 150000.0, 172500.0, 160000.0, 150000.0, 158000.0, 160000.0, 225000.0, 186462.0, 139992.0, 150000.0, 145000.0, 1200000.0, 182496.0, 144000.0, 148000.0, 220000.0, 250000.0, 159960.0, 300000.0, 144000.0, 145000.0, 151016.08, 185000.0, 175400.0, 140000.0, 145992.0, 160000.0, 150000.0, 200000.0, 180000.0, 175000.0, 150000.0, 169000.0, 200000.0, 480000.0, 250000.0, 160000.0, 140000.0, 200000.0, 150000.0, 139992.0, 275000.0, 900000.0, 240000.0, 175000.0, 225000.0, 144000.0, 155000.0, 170000.0, 175000.0, 250000.0, 155000.0, 163900.0, 150000.0, 168000.0, 285000.0, 235000.0, 150000.0, 155004.0, 156000.0, 216000.0, 170000.0, 150000.0, 139008.0, 180952.0, 150000.0, 225000.0, 150000.0, 215662.0, 150000.0, 175000.0, 284400.0, 259000.0, 149400.0, 175000.0, 235800.0, 220000.0, 372000.0, 300000.0, 140004.0, 200000.0, 150000.0, 175000.0, 140000.0, 550000.0, 190000.0, 174996.0, 160000.0, 304800.0, 140000.0, 170000.0, 160000.0, 200000.0, 138996.0, 170004.0, 152000.0, 176608.0, 150000.0, 140004.0, 225000.0, 171000.0, 155142.0, 275000.0, 300000.0, 175000.0, 230000.0, 144000.0, 141000.0, 320000.0, 150000.0, 210000.0, 148350.0, 139992.0, 150000.0, 149616.0, 145000.0, 138000.0, 350000.0, 160000.0, 185000.0, 141000.0, 268000.0, 148000.0, 160000.0, 185000.0, 600000.0, 145000.0, 140000.0, 175000.0, 150000.0, 780000.0, 154000.0, 182500.0, 180000.0, 175000.0, 165000.0, 160000.0, 171600.0, 140000.0, 200000.0, 140000.0, 160000.0, 140000.0, 148112.0, 237000.0, 186063.0, 200000.0, 180000.0, 200000.0, 179000.0, 230000.0, 180396.0, 149000.0, 140000.0, 165000.0, 150996.0, 170000.0, 210000.0, 147996.0, 600000.0, 180000.0, 185000.0, 136886.0, 384000.0, 155004.0, 160000.0, 660000.0, 145000.0, 215000.0, 225000.0, 204000.0, 155000.0, 300000.0, 140000.0, 165000.0, 280000.0, 157000.0, 225000.0, 158000.0, 160000.0, 228000.0, 175000.0, 170004.0, 200000.0, 150000.0, 300000.0, 150000.0]\n",
      "Feature  age\n",
      "data range 12.5 to 40.5\n",
      "Outliers are  [41, 47, 46, 41, 55, 44, 41, 61, 49, 41, 52, 46, 45, 49, 43, 45, 43, 52, 41, 47, 51, 41, 41, 46, 41, 44, 47, 41, 46, 42, 42, 43, 42, 54, 41, 48, 45, 41, 44, 51, 41, 47, 46, 50, 45, 42, 52, 43, 49, 42, 42, 41, 42, 41, 41, 43, 46, 51, 56, 49, 52, 47, 47, 41, 42, 41, 47, 41, 43, 54, 45, 62, 41, 46, 42, 47, 61, 58, 41, 54, 42, 47, 54, 45, 51, 56, 65, 56, 44, 45, 41, 45, 42, 44, 43, 55, 43, 41, 41, 48, 42, 43, 41, 55, 51, 56, 60, 41, 42, 41, 59, 47, 48, 43, 41, 42, 44, 61, 41, 41, 45, 42, 41, 44, 65, 50, 42, 41, 48, 69, 42, 43, 42, 42, 46, 44, 41, 46, 43, 41, 48, 50, 41, 54, 42, 46, 41, 61, 63, 44, 47, 57, 42, 45, 44, 45, 42, 54, 50, 41, 42, 48, 42, 41, 53, 57, 42, 43, 44, 41, 43, 42, 41, 47, 41, 49, 48, 45, 41, 49, 41, 43, 41, 53, 43, 49, 48, 46, 60, 43, 47, 47, 41, 55, 48, 45, 50, 42, 42, 44, 46, 41, 45, 41, 50, 42, 43, 58, 48, 42, 45, 52, 42, 41, 46, 46, 47, 41, 57, 48, 54, 41, 55, 43, 42, 41, 46, 46, 54, 45, 41, 43, 45, 45, 50, 49, 47, 48, 46, 46, 45, 42, 41, 47, 46, 49, 43, 47, 51, 46, 47, 60, 54, 44, 46, 58, 46, 47, 44, 41, 44, 51, 53, 41, 44, 55, 41, 52, 43, 50, 53, 48, 42, 42, 70, 52, 66, 47, 49, 43, 41, 41, 48, 41, 66, 42, 43, 44, 50, 43, 50, 41, 42, 42, 42, 44, 41, 45, 49, 42, 42, 41, 45, 44, 43, 43, 49, 41, 48, 46, 45, 41, 48, 43, 46, 43, 69, 50, 44, 52, 44, 42, 42, 45, 41, 48, 42, 42, 49, 41, 41, 46, 46, 53, 42, 47, 42, 41, 62, 50, 52, 45, 47, 94]\n"
     ]
    }
   ],
   "source": [
    "cols=['amount', 'years', 'income', 'age']\n",
    "for i in cols:\n",
    "    print(\"Feature \", i)\n",
    "    outlier(Df[i])"
   ]
  },
  {
   "cell_type": "code",
   "execution_count": 16,
   "metadata": {},
   "outputs": [],
   "source": [
    "#Df[Df['age']==94]\n",
    "Df1=Df.drop([Df.index[7714]])"
   ]
  },
  {
   "cell_type": "code",
   "execution_count": 17,
   "metadata": {},
   "outputs": [
    {
     "data": {
      "text/plain": [
       "(7726, 7)"
      ]
     },
     "execution_count": 17,
     "metadata": {},
     "output_type": "execute_result"
    }
   ],
   "source": [
    "Df1.shape"
   ]
  },
  {
   "cell_type": "code",
   "execution_count": 18,
   "metadata": {},
   "outputs": [],
   "source": [
    "Df1['years']=Df1['years'].mask(Df1['years']>17,Df1['years'].median())\n",
    "Df1['amount']=Df1['amount'].mask(Df1['amount']>22500,Df1['amount'].median())\n",
    "Df1['income']=Df1['income'].mask(Df1['income']>136491.25,Df1['income'].median())"
   ]
  },
  {
   "cell_type": "code",
   "execution_count": 19,
   "metadata": {},
   "outputs": [
    {
     "name": "stdout",
     "output_type": "stream",
     "text": [
      "Feature  amount\n"
     ]
    },
    {
     "name": "stderr",
     "output_type": "stream",
     "text": [
      "C:\\Users\\compaq\\anaconda3\\lib\\site-packages\\seaborn\\_decorators.py:36: FutureWarning: Pass the following variable as a keyword arg: x. From version 0.12, the only valid positional argument will be `data`, and passing other arguments without an explicit keyword will result in an error or misinterpretation.\n",
      "  warnings.warn(\n"
     ]
    },
    {
     "data": {
      "image/png": "[encoded data removed]",
      "text/plain": [
       "<Figure size 432x288 with 1 Axes>"
      ]
     },
     "metadata": {
      "needs_background": "light"
     },
     "output_type": "display_data"
    },
    {
     "name": "stdout",
     "output_type": "stream",
     "text": [
      "Feature  years\n"
     ]
    },
    {
     "name": "stderr",
     "output_type": "stream",
     "text": [
      "C:\\Users\\compaq\\anaconda3\\lib\\site-packages\\seaborn\\_decorators.py:36: FutureWarning: Pass the following variable as a keyword arg: x. From version 0.12, the only valid positional argument will be `data`, and passing other arguments without an explicit keyword will result in an error or misinterpretation.\n",
      "  warnings.warn(\n"
     ]
    },
    {
     "data": {
      "image/png": "[encoded data removed]",
      "text/plain": [
       "<Figure size 432x288 with 1 Axes>"
      ]
     },
     "metadata": {
      "needs_background": "light"
     },
     "output_type": "display_data"
    },
    {
     "name": "stdout",
     "output_type": "stream",
     "text": [
      "Feature  income\n"
     ]
    },
    {
     "name": "stderr",
     "output_type": "stream",
     "text": [
      "C:\\Users\\compaq\\anaconda3\\lib\\site-packages\\seaborn\\_decorators.py:36: FutureWarning: Pass the following variable as a keyword arg: x. From version 0.12, the only valid positional argument will be `data`, and passing other arguments without an explicit keyword will result in an error or misinterpretation.\n",
      "  warnings.warn(\n"
     ]
    },
    {
     "data": {
      "image/png": "[encoded data removed]",
      "text/plain": [
       "<Figure size 432x288 with 1 Axes>"
      ]
     },
     "metadata": {
      "needs_background": "light"
     },
     "output_type": "display_data"
    },
    {
     "name": "stdout",
     "output_type": "stream",
     "text": [
      "Feature  age\n"
     ]
    },
    {
     "name": "stderr",
     "output_type": "stream",
     "text": [
      "C:\\Users\\compaq\\anaconda3\\lib\\site-packages\\seaborn\\_decorators.py:36: FutureWarning: Pass the following variable as a keyword arg: x. From version 0.12, the only valid positional argument will be `data`, and passing other arguments without an explicit keyword will result in an error or misinterpretation.\n",
      "  warnings.warn(\n"
     ]
    },
    {
     "data": {
      "image/png": "[encoded data removed]",
      "text/plain": [
       "<Figure size 432x288 with 1 Axes>"
      ]
     },
     "metadata": {
      "needs_background": "light"
     },
     "output_type": "display_data"
    }
   ],
   "source": [
    "# After dealing with outliers just to check how outliers are implemented \n",
    "cols=['amount', 'years', 'income', 'age']\n",
    "for i in cols:\n",
    "    print(\"Feature \", i)\n",
    "    sns.boxplot(Df1[i])\n",
    "    plt.show()"
   ]
  },
  {
   "cell_type": "code",
   "execution_count": 20,
   "metadata": {},
   "outputs": [
    {
     "name": "stdout",
     "output_type": "stream",
     "text": [
      "Feature amount\n"
     ]
    },
    {
     "name": "stderr",
     "output_type": "stream",
     "text": [
      "C:\\Users\\compaq\\anaconda3\\lib\\site-packages\\seaborn\\distributions.py:2551: FutureWarning: `distplot` is a deprecated function and will be removed in a future version. Please adapt your code to use either `displot` (a figure-level function with similar flexibility) or `histplot` (an axes-level function for histograms).\n",
      "  warnings.warn(msg, FutureWarning)\n"
     ]
    },
    {
     "data": {
      "image/png": "[encoded data removed]",
      "text/plain": [
       "<Figure size 432x288 with 1 Axes>"
      ]
     },
     "metadata": {
      "needs_background": "light"
     },
     "output_type": "display_data"
    },
    {
     "name": "stdout",
     "output_type": "stream",
     "text": [
      "Feature years\n"
     ]
    },
    {
     "name": "stderr",
     "output_type": "stream",
     "text": [
      "C:\\Users\\compaq\\anaconda3\\lib\\site-packages\\seaborn\\distributions.py:2551: FutureWarning: `distplot` is a deprecated function and will be removed in a future version. Please adapt your code to use either `displot` (a figure-level function with similar flexibility) or `histplot` (an axes-level function for histograms).\n",
      "  warnings.warn(msg, FutureWarning)\n"
     ]
    },
    {
     "data": {
      "image/png": "[encoded data removed]",
      "text/plain": [
       "<Figure size 432x288 with 1 Axes>"
      ]
     },
     "metadata": {
      "needs_background": "light"
     },
     "output_type": "display_data"
    },
    {
     "name": "stdout",
     "output_type": "stream",
     "text": [
      "Feature income\n"
     ]
    },
    {
     "name": "stderr",
     "output_type": "stream",
     "text": [
      "C:\\Users\\compaq\\anaconda3\\lib\\site-packages\\seaborn\\distributions.py:2551: FutureWarning: `distplot` is a deprecated function and will be removed in a future version. Please adapt your code to use either `displot` (a figure-level function with similar flexibility) or `histplot` (an axes-level function for histograms).\n",
      "  warnings.warn(msg, FutureWarning)\n"
     ]
    },
    {
     "data": {
      "image/png": "[encoded data removed]",
      "text/plain": [
       "<Figure size 432x288 with 1 Axes>"
      ]
     },
     "metadata": {
      "needs_background": "light"
     },
     "output_type": "display_data"
    },
    {
     "name": "stdout",
     "output_type": "stream",
     "text": [
      "Feature age\n"
     ]
    },
    {
     "name": "stderr",
     "output_type": "stream",
     "text": [
      "C:\\Users\\compaq\\anaconda3\\lib\\site-packages\\seaborn\\distributions.py:2551: FutureWarning: `distplot` is a deprecated function and will be removed in a future version. Please adapt your code to use either `displot` (a figure-level function with similar flexibility) or `histplot` (an axes-level function for histograms).\n",
      "  warnings.warn(msg, FutureWarning)\n"
     ]
    },
    {
     "data": {
      "image/png": "[encoded data removed]",
      "text/plain": [
       "<Figure size 432x288 with 1 Axes>"
      ]
     },
     "metadata": {
      "needs_background": "light"
     },
     "output_type": "display_data"
    }
   ],
   "source": [
    "col=['amount', 'years', 'income', 'age']\n",
    "for i in col:\n",
    "    print('Feature', i)\n",
    "    sns.distplot(Df1[i])\n",
    "    plt.show()"
   ]
  },
  {
   "cell_type": "code",
   "execution_count": 21,
   "metadata": {},
   "outputs": [
    {
     "data": {
      "image/png": "[encoded data removed]",
      "text/plain": [
       "<Figure size 432x288 with 1 Axes>"
      ]
     },
     "metadata": {
      "needs_background": "light"
     },
     "output_type": "display_data"
    },
    {
     "data": {
      "image/png": "[encoded data removed]",
      "text/plain": [
       "<Figure size 432x288 with 1 Axes>"
      ]
     },
     "metadata": {
      "needs_background": "light"
     },
     "output_type": "display_data"
    },
    {
     "data": {
      "image/png": "[encoded data removed]",
      "text/plain": [
       "<Figure size 432x288 with 1 Axes>"
      ]
     },
     "metadata": {
      "needs_background": "light"
     },
     "output_type": "display_data"
    }
   ],
   "source": [
    "## Now we will consider Catogorical Features\n",
    "cat_col=['default','grade','ownership']\n",
    "for i in cat_col:\n",
    "    sns.histplot(Df1[i])\n",
    "    plt.show()"
   ]
  },
  {
   "cell_type": "markdown",
   "metadata": {},
   "source": [
    "# Correlations"
   ]
  },
  {
   "cell_type": "code",
   "execution_count": 22,
   "metadata": {},
   "outputs": [
    {
     "data": {
      "text/html": [
       "<div>\n",
       "<style scoped>\n",
       "    .dataframe tbody tr th:only-of-type {\n",
       "        vertical-align: middle;\n",
       "    }\n",
       "\n",
       "    .dataframe tbody tr th {\n",
       "        vertical-align: top;\n",
       "    }\n",
       "\n",
       "    .dataframe thead th {\n",
       "        text-align: right;\n",
       "    }\n",
       "</style>\n",
       "<table border=\"1\" class=\"dataframe\">\n",
       "  <thead>\n",
       "    <tr style=\"text-align: right;\">\n",
       "      <th></th>\n",
       "      <th>default</th>\n",
       "      <th>amount</th>\n",
       "      <th>years</th>\n",
       "      <th>income</th>\n",
       "      <th>age</th>\n",
       "    </tr>\n",
       "  </thead>\n",
       "  <tbody>\n",
       "    <tr>\n",
       "      <th>default</th>\n",
       "      <td>1.000000</td>\n",
       "      <td>-0.036807</td>\n",
       "      <td>0.000742</td>\n",
       "      <td>-0.128632</td>\n",
       "      <td>-0.018646</td>\n",
       "    </tr>\n",
       "    <tr>\n",
       "      <th>amount</th>\n",
       "      <td>-0.036807</td>\n",
       "      <td>1.000000</td>\n",
       "      <td>0.084280</td>\n",
       "      <td>0.318299</td>\n",
       "      <td>0.020469</td>\n",
       "    </tr>\n",
       "    <tr>\n",
       "      <th>years</th>\n",
       "      <td>0.000742</td>\n",
       "      <td>0.084280</td>\n",
       "      <td>1.000000</td>\n",
       "      <td>0.162982</td>\n",
       "      <td>-0.001959</td>\n",
       "    </tr>\n",
       "    <tr>\n",
       "      <th>income</th>\n",
       "      <td>-0.128632</td>\n",
       "      <td>0.318299</td>\n",
       "      <td>0.162982</td>\n",
       "      <td>1.000000</td>\n",
       "      <td>0.062583</td>\n",
       "    </tr>\n",
       "    <tr>\n",
       "      <th>age</th>\n",
       "      <td>-0.018646</td>\n",
       "      <td>0.020469</td>\n",
       "      <td>-0.001959</td>\n",
       "      <td>0.062583</td>\n",
       "      <td>1.000000</td>\n",
       "    </tr>\n",
       "  </tbody>\n",
       "</table>\n",
       "</div>"
      ],
      "text/plain": [
       "          default    amount     years    income       age\n",
       "default  1.000000 -0.036807  0.000742 -0.128632 -0.018646\n",
       "amount  -0.036807  1.000000  0.084280  0.318299  0.020469\n",
       "years    0.000742  0.084280  1.000000  0.162982 -0.001959\n",
       "income  -0.128632  0.318299  0.162982  1.000000  0.062583\n",
       "age     -0.018646  0.020469 -0.001959  0.062583  1.000000"
      ]
     },
     "execution_count": 22,
     "metadata": {},
     "output_type": "execute_result"
    }
   ],
   "source": [
    "corr=Df1.corr()\n",
    "corr"
   ]
  },
  {
   "cell_type": "code",
   "execution_count": 23,
   "metadata": {},
   "outputs": [
    {
     "data": {
      "text/plain": [
       "<AxesSubplot:>"
      ]
     },
     "execution_count": 23,
     "metadata": {},
     "output_type": "execute_result"
    },
    {
     "data": {
      "image/png": "[encoded data removed]",
      "text/plain": [
       "<Figure size 432x288 with 2 Axes>"
      ]
     },
     "metadata": {
      "needs_background": "light"
     },
     "output_type": "display_data"
    }
   ],
   "source": [
    "sns.heatmap(corr,annot=True)"
   ]
  },
  {
   "cell_type": "code",
   "execution_count": 24,
   "metadata": {},
   "outputs": [
    {
     "data": {
      "text/plain": [
       "0    0\n",
       "1    1\n",
       "2    0\n",
       "3    0\n",
       "4    1\n",
       "Name: default, dtype: int64"
      ]
     },
     "execution_count": 24,
     "metadata": {},
     "output_type": "execute_result"
    }
   ],
   "source": [
    "# Dependent and independent variable\n",
    "y=Df1['default']\n",
    "y.head()\n"
   ]
  },
  {
   "cell_type": "code",
   "execution_count": 25,
   "metadata": {},
   "outputs": [
    {
     "data": {
      "text/html": [
       "<div>\n",
       "<style scoped>\n",
       "    .dataframe tbody tr th:only-of-type {\n",
       "        vertical-align: middle;\n",
       "    }\n",
       "\n",
       "    .dataframe tbody tr th {\n",
       "        vertical-align: top;\n",
       "    }\n",
       "\n",
       "    .dataframe thead th {\n",
       "        text-align: right;\n",
       "    }\n",
       "</style>\n",
       "<table border=\"1\" class=\"dataframe\">\n",
       "  <thead>\n",
       "    <tr style=\"text-align: right;\">\n",
       "      <th></th>\n",
       "      <th>amount</th>\n",
       "      <th>grade</th>\n",
       "      <th>years</th>\n",
       "      <th>ownership</th>\n",
       "      <th>income</th>\n",
       "      <th>age</th>\n",
       "    </tr>\n",
       "  </thead>\n",
       "  <tbody>\n",
       "    <tr>\n",
       "      <th>0</th>\n",
       "      <td>1000.0</td>\n",
       "      <td>B</td>\n",
       "      <td>2.0</td>\n",
       "      <td>RENT</td>\n",
       "      <td>19200.0</td>\n",
       "      <td>24</td>\n",
       "    </tr>\n",
       "    <tr>\n",
       "      <th>1</th>\n",
       "      <td>6500.0</td>\n",
       "      <td>A</td>\n",
       "      <td>2.0</td>\n",
       "      <td>MORTGAGE</td>\n",
       "      <td>66000.0</td>\n",
       "      <td>28</td>\n",
       "    </tr>\n",
       "    <tr>\n",
       "      <th>2</th>\n",
       "      <td>2400.0</td>\n",
       "      <td>A</td>\n",
       "      <td>2.0</td>\n",
       "      <td>RENT</td>\n",
       "      <td>60000.0</td>\n",
       "      <td>36</td>\n",
       "    </tr>\n",
       "    <tr>\n",
       "      <th>3</th>\n",
       "      <td>10000.0</td>\n",
       "      <td>C</td>\n",
       "      <td>3.0</td>\n",
       "      <td>RENT</td>\n",
       "      <td>62000.0</td>\n",
       "      <td>24</td>\n",
       "    </tr>\n",
       "    <tr>\n",
       "      <th>4</th>\n",
       "      <td>4000.0</td>\n",
       "      <td>C</td>\n",
       "      <td>2.0</td>\n",
       "      <td>RENT</td>\n",
       "      <td>20000.0</td>\n",
       "      <td>28</td>\n",
       "    </tr>\n",
       "  </tbody>\n",
       "</table>\n",
       "</div>"
      ],
      "text/plain": [
       "    amount grade  years ownership   income  age\n",
       "0   1000.0     B    2.0      RENT  19200.0   24\n",
       "1   6500.0     A    2.0  MORTGAGE  66000.0   28\n",
       "2   2400.0     A    2.0      RENT  60000.0   36\n",
       "3  10000.0     C    3.0      RENT  62000.0   24\n",
       "4   4000.0     C    2.0      RENT  20000.0   28"
      ]
     },
     "execution_count": 25,
     "metadata": {},
     "output_type": "execute_result"
    }
   ],
   "source": [
    "x=Df1.drop('default',axis=1)\n",
    "x.head()"
   ]
  },
  {
   "cell_type": "code",
   "execution_count": 55,
   "metadata": {},
   "outputs": [
    {
     "data": {
      "text/plain": [
       "array(['B', 'A', 'C', 'D', 'E', 'F', 'G'], dtype=object)"
      ]
     },
     "execution_count": 55,
     "metadata": {},
     "output_type": "execute_result"
    }
   ],
   "source": [
    "Df1[\"grade\"].unique()"
   ]
  },
  {
   "cell_type": "code",
   "execution_count": 56,
   "metadata": {},
   "outputs": [
    {
     "data": {
      "text/plain": [
       "array(['RENT', 'MORTGAGE', 'OWN', 'OTHER'], dtype=object)"
      ]
     },
     "execution_count": 56,
     "metadata": {},
     "output_type": "execute_result"
    }
   ],
   "source": [
    "Df1[\"ownership\"].unique()"
   ]
  },
  {
   "cell_type": "code",
   "execution_count": 26,
   "metadata": {},
   "outputs": [
    {
     "data": {
      "text/html": [
       "<div>\n",
       "<style scoped>\n",
       "    .dataframe tbody tr th:only-of-type {\n",
       "        vertical-align: middle;\n",
       "    }\n",
       "\n",
       "    .dataframe tbody tr th {\n",
       "        vertical-align: top;\n",
       "    }\n",
       "\n",
       "    .dataframe thead th {\n",
       "        text-align: right;\n",
       "    }\n",
       "</style>\n",
       "<table border=\"1\" class=\"dataframe\">\n",
       "  <thead>\n",
       "    <tr style=\"text-align: right;\">\n",
       "      <th></th>\n",
       "      <th>amount</th>\n",
       "      <th>years</th>\n",
       "      <th>income</th>\n",
       "      <th>age</th>\n",
       "      <th>grade_A</th>\n",
       "      <th>grade_B</th>\n",
       "      <th>grade_C</th>\n",
       "      <th>grade_D</th>\n",
       "      <th>grade_E</th>\n",
       "      <th>grade_F</th>\n",
       "      <th>grade_G</th>\n",
       "      <th>ownership_MORTGAGE</th>\n",
       "      <th>ownership_OTHER</th>\n",
       "      <th>ownership_OWN</th>\n",
       "      <th>ownership_RENT</th>\n",
       "    </tr>\n",
       "  </thead>\n",
       "  <tbody>\n",
       "    <tr>\n",
       "      <th>0</th>\n",
       "      <td>1000.0</td>\n",
       "      <td>2.0</td>\n",
       "      <td>19200.0</td>\n",
       "      <td>24</td>\n",
       "      <td>0</td>\n",
       "      <td>1</td>\n",
       "      <td>0</td>\n",
       "      <td>0</td>\n",
       "      <td>0</td>\n",
       "      <td>0</td>\n",
       "      <td>0</td>\n",
       "      <td>0</td>\n",
       "      <td>0</td>\n",
       "      <td>0</td>\n",
       "      <td>1</td>\n",
       "    </tr>\n",
       "    <tr>\n",
       "      <th>1</th>\n",
       "      <td>6500.0</td>\n",
       "      <td>2.0</td>\n",
       "      <td>66000.0</td>\n",
       "      <td>28</td>\n",
       "      <td>1</td>\n",
       "      <td>0</td>\n",
       "      <td>0</td>\n",
       "      <td>0</td>\n",
       "      <td>0</td>\n",
       "      <td>0</td>\n",
       "      <td>0</td>\n",
       "      <td>1</td>\n",
       "      <td>0</td>\n",
       "      <td>0</td>\n",
       "      <td>0</td>\n",
       "    </tr>\n",
       "    <tr>\n",
       "      <th>2</th>\n",
       "      <td>2400.0</td>\n",
       "      <td>2.0</td>\n",
       "      <td>60000.0</td>\n",
       "      <td>36</td>\n",
       "      <td>1</td>\n",
       "      <td>0</td>\n",
       "      <td>0</td>\n",
       "      <td>0</td>\n",
       "      <td>0</td>\n",
       "      <td>0</td>\n",
       "      <td>0</td>\n",
       "      <td>0</td>\n",
       "      <td>0</td>\n",
       "      <td>0</td>\n",
       "      <td>1</td>\n",
       "    </tr>\n",
       "    <tr>\n",
       "      <th>3</th>\n",
       "      <td>10000.0</td>\n",
       "      <td>3.0</td>\n",
       "      <td>62000.0</td>\n",
       "      <td>24</td>\n",
       "      <td>0</td>\n",
       "      <td>0</td>\n",
       "      <td>1</td>\n",
       "      <td>0</td>\n",
       "      <td>0</td>\n",
       "      <td>0</td>\n",
       "      <td>0</td>\n",
       "      <td>0</td>\n",
       "      <td>0</td>\n",
       "      <td>0</td>\n",
       "      <td>1</td>\n",
       "    </tr>\n",
       "    <tr>\n",
       "      <th>4</th>\n",
       "      <td>4000.0</td>\n",
       "      <td>2.0</td>\n",
       "      <td>20000.0</td>\n",
       "      <td>28</td>\n",
       "      <td>0</td>\n",
       "      <td>0</td>\n",
       "      <td>1</td>\n",
       "      <td>0</td>\n",
       "      <td>0</td>\n",
       "      <td>0</td>\n",
       "      <td>0</td>\n",
       "      <td>0</td>\n",
       "      <td>0</td>\n",
       "      <td>0</td>\n",
       "      <td>1</td>\n",
       "    </tr>\n",
       "  </tbody>\n",
       "</table>\n",
       "</div>"
      ],
      "text/plain": [
       "    amount  years   income  age  grade_A  grade_B  grade_C  grade_D  grade_E  \\\n",
       "0   1000.0    2.0  19200.0   24        0        1        0        0        0   \n",
       "1   6500.0    2.0  66000.0   28        1        0        0        0        0   \n",
       "2   2400.0    2.0  60000.0   36        1        0        0        0        0   \n",
       "3  10000.0    3.0  62000.0   24        0        0        1        0        0   \n",
       "4   4000.0    2.0  20000.0   28        0        0        1        0        0   \n",
       "\n",
       "   grade_F  grade_G  ownership_MORTGAGE  ownership_OTHER  ownership_OWN  \\\n",
       "0        0        0                   0                0              0   \n",
       "1        0        0                   1                0              0   \n",
       "2        0        0                   0                0              0   \n",
       "3        0        0                   0                0              0   \n",
       "4        0        0                   0                0              0   \n",
       "\n",
       "   ownership_RENT  \n",
       "0               1  \n",
       "1               0  \n",
       "2               1  \n",
       "3               1  \n",
       "4               1  "
      ]
     },
     "execution_count": 26,
     "metadata": {},
     "output_type": "execute_result"
    }
   ],
   "source": [
    "# Some variables in the predictor matrix that are categorical Variables\n",
    "# Creating a numeric representation for non numeric(categorical) variables\n",
    "# ONE HOT ENCODING\n",
    "# Get one hot encoding using pd.get_dummies()\n",
    "x=pd.get_dummies(x)\n",
    "x.head()"
   ]
  },
  {
   "cell_type": "markdown",
   "metadata": {},
   "source": [
    "# Splitting Data"
   ]
  },
  {
   "cell_type": "code",
   "execution_count": 27,
   "metadata": {},
   "outputs": [
    {
     "name": "stdout",
     "output_type": "stream",
     "text": [
      "(6180, 15)\n",
      "(1546,)\n"
     ]
    }
   ],
   "source": [
    "x_train,x_test,y_train,y_test=train_test_split(x,y,test_size=0.20,random_state=200)\n",
    "print(x_train.shape)\n",
    "print(y_test.shape)"
   ]
  },
  {
   "cell_type": "markdown",
   "metadata": {},
   "source": [
    "# 1. SVM"
   ]
  },
  {
   "cell_type": "code",
   "execution_count": 28,
   "metadata": {},
   "outputs": [
    {
     "data": {
      "text/plain": [
       "56.26213592233009"
      ]
     },
     "execution_count": 28,
     "metadata": {},
     "output_type": "execute_result"
    }
   ],
   "source": [
    "from sklearn import svm #support vector machine # 1.step\n",
    "model1=svm.SVC(kernel='rbf') # 2. step craeting object,  kernel='rbf' means by default it will go non-linear\n",
    "model1.fit(x_train, y_train) #3. Training model \n",
    "model1.score(x_train,y_train)*100"
   ]
  },
  {
   "cell_type": "code",
   "execution_count": 29,
   "metadata": {},
   "outputs": [
    {
     "data": {
      "text/plain": [
       "array([0, 0, 0, ..., 1, 0, 0], dtype=int64)"
      ]
     },
     "execution_count": 29,
     "metadata": {},
     "output_type": "execute_result"
    }
   ],
   "source": [
    "svm_pred=model1.predict(x_test)\n",
    "svm_pred"
   ]
  },
  {
   "cell_type": "markdown",
   "metadata": {},
   "source": [
    "# Performance of SVM"
   ]
  },
  {
   "cell_type": "code",
   "execution_count": 30,
   "metadata": {},
   "outputs": [
    {
     "name": "stdout",
     "output_type": "stream",
     "text": [
      "[[549 433]\n",
      " [253 311]]\n",
      "55.627425614489\n"
     ]
    }
   ],
   "source": [
    "print(confusion_matrix(svm_pred, y_test))\n",
    "print(model1.score(x_test,y_test)*100)"
   ]
  },
  {
   "cell_type": "markdown",
   "metadata": {},
   "source": [
    "# 2. KNN model"
   ]
  },
  {
   "cell_type": "code",
   "execution_count": 31,
   "metadata": {},
   "outputs": [
    {
     "name": "stdout",
     "output_type": "stream",
     "text": [
      "neighbors k= 1 0.5575679172056921\n",
      "******************************\n",
      "neighbors k= 2 0.5426908150064683\n",
      "******************************\n",
      "neighbors k= 3 0.5316946959896507\n",
      "******************************\n",
      "neighbors k= 4 0.5213454075032341\n",
      "******************************\n",
      "neighbors k= 5 0.5258732212160414\n",
      "******************************\n",
      "neighbors k= 6 0.5304010349288486\n",
      "******************************\n",
      "neighbors k= 7 0.5135834411384217\n",
      "******************************\n",
      "neighbors k= 8 0.5420439844760673\n",
      "******************************\n",
      "neighbors k= 9 0.5446313065976714\n",
      "******************************\n",
      "neighbors k= 10 0.5504527813712807\n",
      "******************************\n",
      "neighbors k= 11 0.5413971539456662\n",
      "******************************\n",
      "neighbors k= 12 0.5498059508408797\n",
      "******************************\n",
      "neighbors k= 13 0.5523932729624839\n",
      "******************************\n",
      "neighbors k= 14 0.556921086675291\n",
      "******************************\n"
     ]
    }
   ],
   "source": [
    "from sklearn.neighbors import KNeighborsClassifier\n",
    "from sklearn.neighbors import KNeighborsClassifier #step -1\n",
    "for i in range(1,15):\n",
    "    model2 = KNeighborsClassifier(n_neighbors=i)  #K=1 , clf is my model\n",
    "    model2.fit(x_train, y_train) #traininig algorithm  \n",
    "    print('neighbors k=',i,model2.score(x_test, y_test)) #test\n",
    "    print ('******************************')\n"
   ]
  },
  {
   "cell_type": "code",
   "execution_count": 32,
   "metadata": {},
   "outputs": [],
   "source": [
    "model2.kneighbors\n",
    "knn_pre=model2.predict(x_test)"
   ]
  },
  {
   "cell_type": "markdown",
   "metadata": {},
   "source": [
    "# performance of KNN"
   ]
  },
  {
   "cell_type": "code",
   "execution_count": 33,
   "metadata": {},
   "outputs": [
    {
     "name": "stdout",
     "output_type": "stream",
     "text": [
      "[[537 420]\n",
      " [265 324]]\n",
      "55.692108667529105\n"
     ]
    }
   ],
   "source": [
    "print(confusion_matrix(knn_pre,y_test))\n",
    "print(model2.score(x_test,y_test)*100)"
   ]
  },
  {
   "cell_type": "markdown",
   "metadata": {},
   "source": [
    "# 3. Naive Bayes"
   ]
  },
  {
   "cell_type": "code",
   "execution_count": 34,
   "metadata": {},
   "outputs": [],
   "source": [
    "model3=GaussianNB()\n",
    "model3.fit(x_train, y_train)\n",
    "gnb_pred=model3.predict(x_test)"
   ]
  },
  {
   "cell_type": "markdown",
   "metadata": {},
   "source": [
    "# performance of Naive Bayes"
   ]
  },
  {
   "cell_type": "code",
   "execution_count": 35,
   "metadata": {},
   "outputs": [
    {
     "name": "stdout",
     "output_type": "stream",
     "text": [
      "[[559 370]\n",
      " [243 374]]\n",
      "0.6034928848641656\n"
     ]
    }
   ],
   "source": [
    "print(confusion_matrix(gnb_pred,y_test))\n",
    "print(model3.score(x_test,y_test))"
   ]
  },
  {
   "cell_type": "markdown",
   "metadata": {},
   "source": [
    "# 4. LOGISTIC REGRESSION"
   ]
  },
  {
   "cell_type": "code",
   "execution_count": 36,
   "metadata": {},
   "outputs": [],
   "source": [
    "Lr=LogisticRegression()\n",
    "model4=Lr.fit(x_train,y_train)\n",
    "Lr_pred=model4.predict(x_test)"
   ]
  },
  {
   "cell_type": "markdown",
   "metadata": {},
   "source": [
    "# Performance of Logistic Regression"
   ]
  },
  {
   "cell_type": "code",
   "execution_count": 37,
   "metadata": {},
   "outputs": [
    {
     "name": "stdout",
     "output_type": "stream",
     "text": [
      "[[570 454]\n",
      " [232 290]]\n",
      "0.55627425614489\n"
     ]
    }
   ],
   "source": [
    "print(confusion_matrix(Lr_pred,y_test))\n",
    "print(model4.score(x_test,y_test))"
   ]
  },
  {
   "cell_type": "markdown",
   "metadata": {},
   "source": [
    "# 5.Decision Tree Classifiers"
   ]
  },
  {
   "cell_type": "code",
   "execution_count": 38,
   "metadata": {},
   "outputs": [],
   "source": [
    "model5=DecisionTreeClassifier(max_depth=5, random_state=None, criterion='gini', splitter='best') \n",
    "model5.fit(x_train,y_train)\n",
    "D_pred=model5.predict(x_test)"
   ]
  },
  {
   "cell_type": "markdown",
   "metadata": {},
   "source": [
    "# Performance of Decision Tree Classifiers"
   ]
  },
  {
   "cell_type": "code",
   "execution_count": 39,
   "metadata": {},
   "outputs": [
    {
     "name": "stdout",
     "output_type": "stream",
     "text": [
      "[[546 313]\n",
      " [256 431]]\n",
      "63.19534282018111\n"
     ]
    }
   ],
   "source": [
    "print(confusion_matrix(D_pred,y_test))\n",
    "print(model5.score(x_test, y_test)*100)"
   ]
  },
  {
   "cell_type": "markdown",
   "metadata": {},
   "source": [
    "# Cross Validation"
   ]
  },
  {
   "cell_type": "code",
   "execution_count": 40,
   "metadata": {},
   "outputs": [
    {
     "name": "stderr",
     "output_type": "stream",
     "text": [
      "C:\\Users\\compaq\\anaconda3\\lib\\site-packages\\sklearn\\model_selection\\_split.py:293: FutureWarning: Setting a random_state has no effect since shuffle is False. This will raise an error in 0.24. You should leave random_state to its default (None), or set shuffle=True.\n",
      "  warnings.warn(\n"
     ]
    }
   ],
   "source": [
    "# Initialize parameters\n",
    "num_folds = 10 #K=10\n",
    "seed = 7 #Random_state\n",
    "kfold = KFold(n_splits=num_folds, random_state=seed) #K-fold algorithm\n",
    "model1=svm.SVC(kernel='rbf')\n",
    "model2=KNeighborsClassifier(n_neighbors=5)\n",
    "model3=GaussianNB()\n",
    "model4=LogisticRegression()\n",
    "model5=model5=DecisionTreeClassifier(max_depth=5, random_state=None, criterion='gini', splitter='best')"
   ]
  },
  {
   "cell_type": "code",
   "execution_count": 41,
   "metadata": {},
   "outputs": [
    {
     "name": "stdout",
     "output_type": "stream",
     "text": [
      "results1 of = SVC()\n",
      "[0.55886158 0.5614489  0.55109961 0.59896507 0.53945666 0.54592497\n",
      " 0.53367876 0.54015544 0.54792746 0.55440415]\n",
      "Accuracy:  [55.88615783 56.14489004 55.10996119 59.89650712 53.94566624 54.59249677\n",
      " 53.36787565 54.01554404 54.79274611 55.44041451]\n",
      "mean of accuracy 55.31922594829377\n",
      "std.deviation of accuracies 1.7381729300221735\n",
      "********************************8\n",
      "results1 of = KNeighborsClassifier()\n",
      "[0.55239327 0.53298836 0.54721863 0.5549806  0.57956016 0.52263907\n",
      " 0.5388601  0.53367876 0.52849741 0.54533679]\n",
      "Accuracy:  [55.2393273  53.29883571 54.72186287 55.49805951 57.95601552 52.26390686\n",
      " 53.88601036 53.36787565 52.84974093 54.53367876]\n",
      "mean of accuracy 54.36153134614482\n",
      "std.deviation of accuracies 1.55468146802198\n",
      "********************************8\n",
      "results1 of = GaussianNB()\n",
      "[0.57697283 0.56403622 0.55627426 0.61578266 0.58344114 0.57309185\n",
      " 0.60362694 0.63082902 0.62305699 0.6126943 ]\n",
      "Accuracy:  [57.69728331 56.40362225 55.62742561 61.57826649 58.34411384 57.30918499\n",
      " 60.3626943  63.08290155 62.30569948 61.26943005]\n",
      "mean of accuracy 59.39806218957161\n",
      "std.deviation of accuracies 2.505383282869363\n",
      "********************************8\n",
      "results1 of = LogisticRegression()\n",
      "[0.54463131 0.5549806  0.56015524 0.5847348  0.59379043 0.54592497\n",
      " 0.44948187 0.43523316 0.66709845 0.53626943]\n",
      "Accuracy:  [54.46313066 55.49805951 56.01552393 58.47347995 59.37904269 54.59249677\n",
      " 44.94818653 43.52331606 66.70984456 53.62694301]\n",
      "mean of accuracy 54.723002366126195\n",
      "std.deviation of accuracies 6.355835224804306\n",
      "********************************8\n",
      "results1 of = DecisionTreeClassifier(max_depth=5)\n",
      "[0.60155239 0.59896507 0.60155239 0.62354463 0.58861578 0.62095731\n",
      " 0.68134715 0.66839378 0.67227979 0.66580311]\n",
      "Accuracy:  [60.15523933 59.89650712 60.15523933 62.35446313 58.86157827 62.09573092\n",
      " 68.13471503 66.83937824 67.22797927 66.58031088]\n",
      "mean of accuracy 63.23011415050706\n",
      "std.deviation of accuracies 3.397778431618692\n",
      "********************************8\n"
     ]
    }
   ],
   "source": [
    "mo=[model1,model2,model3,model4,model5]\n",
    "for i in mo:\n",
    "    results1 = cross_val_score(i, x, y, cv=kfold)\n",
    "    print(\"results1 of =\", i)\n",
    "    print(results1)\n",
    "    print(\"Accuracy: \", results1*100.0)\n",
    "    print(\"mean of accuracy\", results1.mean()*100.0)\n",
    "    print (\"std.deviation of accuracies\", results1.std()*100)\n",
    "    print(\"********************************8\")\n"
   ]
  },
  {
   "cell_type": "markdown",
   "metadata": {},
   "source": [
    "# hence we will consider descion tree classifier as  best model "
   ]
  },
  {
   "cell_type": "code",
   "execution_count": 42,
   "metadata": {},
   "outputs": [],
   "source": [
    "Final_model=DecisionTreeClassifier(max_depth=5, random_state=None, criterion='gini', splitter='best')\n",
    "Final_model.fit(x_train,y_train)\n",
    "F_pred=Final_model.predict(x_test)"
   ]
  },
  {
   "cell_type": "code",
   "execution_count": 43,
   "metadata": {},
   "outputs": [
    {
     "name": "stdout",
     "output_type": "stream",
     "text": [
      "[[548 314]\n",
      " [254 430]]\n",
      "0.6326002587322122\n"
     ]
    }
   ],
   "source": [
    "print(confusion_matrix(F_pred,y_test))\n",
    "print(Final_model.score(x_test,y_test))"
   ]
  },
  {
   "cell_type": "markdown",
   "metadata": {},
   "source": [
    "# create pickle file"
   ]
  },
  {
   "cell_type": "code",
   "execution_count": 44,
   "metadata": {},
   "outputs": [],
   "source": [
    "import pickle\n",
    "# open a file, where you ant to store the data\n",
    "file = open('model.pkl', 'wb')\n",
    "\n",
    "# dump information to that file\n",
    "pickle.dump(Final_model, file)"
   ]
  },
  {
   "cell_type": "markdown",
   "metadata": {},
   "source": [
    "# REAL TIME PREDICTION"
   ]
  },
  {
   "cell_type": "code",
   "execution_count": 62,
   "metadata": {},
   "outputs": [
    {
     "name": "stdout",
     "output_type": "stream",
     "text": [
      "year3\n",
      "Amount1000\n",
      "gradec\n",
      "income10000\n",
      "age26\n",
      "ownershipown\n",
      "[1]\n",
      "Customer is defaulter means he is  eligible for credit card\n"
     ]
    }
   ],
   "source": [
    "years = int(input(\"year\"))\n",
    "Amount=float(input(\"Amount\"))\n",
    "grade=input(\"grade\").upper()\n",
    "income=int(input('income'))\n",
    "age=int(input('age'))\n",
    "if (grade==\"A\"):\n",
    "    grade_A=1\n",
    "    grade_B=0\n",
    "    grade_C=0\n",
    "    grade_D=0\n",
    "    grade_E=0\n",
    "    grade_F=0\n",
    "    grade_G=0\n",
    "elif(grade==\"B\"):\n",
    "    grade_A=0\n",
    "    grade_B=1\n",
    "    grade_C=0\n",
    "    grade_D=0\n",
    "    grade_E=0\n",
    "    grade_F=0\n",
    "    grade_G=0\n",
    "elif(grade==\"C\"):\n",
    "    grade_A=0\n",
    "    grade_B=0\n",
    "    grade_C=1\n",
    "    grade_D=0\n",
    "    grade_E=0\n",
    "    grade_F=0\n",
    "    grade_G=0\n",
    "elif(grade==\"D\"):\n",
    "    grade_A=0\n",
    "    grade_B=0\n",
    "    grade_C=0\n",
    "    grade_D=1\n",
    "    grade_E=0\n",
    "    grade_F=0\n",
    "    grade_G=0\n",
    "elif(grade==\"E\"):\n",
    "    grade_A=0\n",
    "    grade_B=0\n",
    "    grade_C=0\n",
    "    grade_D=0\n",
    "    grade_E=1\n",
    "    grade_F=0\n",
    "    grade_G=0\n",
    "elif(grade==\"F\"):\n",
    "    grade_A=0\n",
    "    grade_B=0\n",
    "    grade_C=0\n",
    "    grade_D=0\n",
    "    grade_E=0\n",
    "    grade_F=1\n",
    "    grade_G=0\n",
    "else:\n",
    "    grade_A=0\n",
    "    grade_B=0\n",
    "    grade_C=0\n",
    "    grade_D=0\n",
    "    grade_E=0\n",
    "    grade_F=0\n",
    "    grade_G=1\n",
    "ownership=input('ownership').upper()\n",
    "if(ownership=='RENT'):\n",
    "    ownership_RENT=1\n",
    "    ownership_MORTGAGE=0\n",
    "    ownership_OWN =0\n",
    "    ownership_OTHER=0\n",
    "elif(ownership=='MORTGAGE'):\n",
    "    ownership_RENT=0\n",
    "    ownership_MORTGAGE=1\n",
    "    ownership_OWN =0\n",
    "    ownership_OTHER=0\n",
    "elif(ownership=='OWN'):\n",
    "    ownership_RENT=0\n",
    "    ownership_MORTGAGE=0\n",
    "    ownership_OWN =1\n",
    "    ownership_OTHER=0\n",
    "else:\n",
    "    ownership_RENT=0\n",
    "    ownership_MORTGAGE=0\n",
    "    ownership_OWN =0\n",
    "    ownership_OTHER=1\n",
    "     \n",
    "prediction=Final_model.predict([[years,Amount,grade_A,grade_B,grade_C,grade_D,grade_E,grade_F,grade_G,ownership_MORTGAGE,ownership_OTHER,ownership_OWN,ownership_RENT,income,age]])\n",
    "print(prediction)\n",
    "if (prediction==0):\n",
    "    print(\"Customer is non defaulter means he is not eligible for credit card\")\n",
    "else:\n",
    "    print(\"Customer is defaulter means he is  eligible for credit card\")"
   ]
  },
  {
   "cell_type": "code",
   "execution_count": null,
   "metadata": {},
   "outputs": [],
   "source": []
  }
 ],
 "metadata": {
  "kernelspec": {
   "display_name": "Python 3",
   "language": "python",
   "name": "python3"
  },
  "language_info": {
   "codemirror_mode": {
    "name": "ipython",
    "version": 3
   },
   "file_extension": ".py",
   "mimetype": "text/x-python",
   "name": "python",
   "nbconvert_exporter": "python",
   "pygments_lexer": "ipython3",
   "version": "3.8.5"
  }
 },
 "nbformat": 4,
 "nbformat_minor": 4
}
